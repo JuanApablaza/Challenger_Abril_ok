{
  "nbformat": 4,
  "nbformat_minor": 0,
  "metadata": {
    "colab": {
      "provenance": []
    },
    "kernelspec": {
      "name": "python3",
      "display_name": "Python 3"
    },
    "language_info": {
      "name": "python"
    }
  },
  "cells": [
    {
      "cell_type": "markdown",
      "source": [
        "### Importación de datos\n",
        "\n"
      ],
      "metadata": {
        "id": "RhEdWd9YUR6H"
      }
    },
    {
      "cell_type": "code",
      "execution_count": 10,
      "metadata": {
        "colab": {
          "base_uri": "https://localhost:8080/",
          "height": 206
        },
        "id": "T3EvaeQ_INIL",
        "outputId": "75aef5d6-839a-4b8b-d85b-2b463b320b12",
        "collapsed": true
      },
      "outputs": [
        {
          "output_type": "execute_result",
          "data": {
            "text/plain": [
              "           Producto  Categoría del Producto    Precio  Costo de envío  \\\n",
              "0  Silla de oficina                 Muebles  283600.0         15300.0   \n",
              "1         Pandereta  Instrumentos musicales   76800.0          2300.0   \n",
              "2         Cama king                 Muebles  443300.0         23800.0   \n",
              "3         Cama king                 Muebles  906200.0         46400.0   \n",
              "4  Silla de oficina                 Muebles  397800.0         19400.0   \n",
              "\n",
              "  Fecha de Compra         Vendedor Lugar de Compra  Calificación  \\\n",
              "0      04/08/2021  Izabela de León        Medellín             1   \n",
              "1      26/11/2020   Blanca Ramirez        Medellín             3   \n",
              "2      22/10/2021  Izabela de León         Pereira             5   \n",
              "3      04/05/2022    Maria Alfonso            Cali             5   \n",
              "4      26/02/2022    Lucas Olivera          Bogotá             4   \n",
              "\n",
              "       Método de pago  Cantidad de cuotas      lat       lon  \n",
              "0               Nequi                   1  6.25184 -75.56359  \n",
              "1  Tarjeta de crédito                   4  6.25184 -75.56359  \n",
              "2  Tarjeta de crédito                  10  4.81333 -75.69611  \n",
              "3  Tarjeta de crédito                  10  3.43722 -76.52250  \n",
              "4  Tarjeta de crédito                   3  4.60971 -74.08175  "
            ],
            "text/html": [
              "\n",
              "  <div id=\"df-7c1cc192-5583-454a-ae56-2272318b58dd\" class=\"colab-df-container\">\n",
              "    <div>\n",
              "<style scoped>\n",
              "    .dataframe tbody tr th:only-of-type {\n",
              "        vertical-align: middle;\n",
              "    }\n",
              "\n",
              "    .dataframe tbody tr th {\n",
              "        vertical-align: top;\n",
              "    }\n",
              "\n",
              "    .dataframe thead th {\n",
              "        text-align: right;\n",
              "    }\n",
              "</style>\n",
              "<table border=\"1\" class=\"dataframe\">\n",
              "  <thead>\n",
              "    <tr style=\"text-align: right;\">\n",
              "      <th></th>\n",
              "      <th>Producto</th>\n",
              "      <th>Categoría del Producto</th>\n",
              "      <th>Precio</th>\n",
              "      <th>Costo de envío</th>\n",
              "      <th>Fecha de Compra</th>\n",
              "      <th>Vendedor</th>\n",
              "      <th>Lugar de Compra</th>\n",
              "      <th>Calificación</th>\n",
              "      <th>Método de pago</th>\n",
              "      <th>Cantidad de cuotas</th>\n",
              "      <th>lat</th>\n",
              "      <th>lon</th>\n",
              "    </tr>\n",
              "  </thead>\n",
              "  <tbody>\n",
              "    <tr>\n",
              "      <th>0</th>\n",
              "      <td>Silla de oficina</td>\n",
              "      <td>Muebles</td>\n",
              "      <td>283600.0</td>\n",
              "      <td>15300.0</td>\n",
              "      <td>04/08/2021</td>\n",
              "      <td>Izabela de León</td>\n",
              "      <td>Medellín</td>\n",
              "      <td>1</td>\n",
              "      <td>Nequi</td>\n",
              "      <td>1</td>\n",
              "      <td>6.25184</td>\n",
              "      <td>-75.56359</td>\n",
              "    </tr>\n",
              "    <tr>\n",
              "      <th>1</th>\n",
              "      <td>Pandereta</td>\n",
              "      <td>Instrumentos musicales</td>\n",
              "      <td>76800.0</td>\n",
              "      <td>2300.0</td>\n",
              "      <td>26/11/2020</td>\n",
              "      <td>Blanca Ramirez</td>\n",
              "      <td>Medellín</td>\n",
              "      <td>3</td>\n",
              "      <td>Tarjeta de crédito</td>\n",
              "      <td>4</td>\n",
              "      <td>6.25184</td>\n",
              "      <td>-75.56359</td>\n",
              "    </tr>\n",
              "    <tr>\n",
              "      <th>2</th>\n",
              "      <td>Cama king</td>\n",
              "      <td>Muebles</td>\n",
              "      <td>443300.0</td>\n",
              "      <td>23800.0</td>\n",
              "      <td>22/10/2021</td>\n",
              "      <td>Izabela de León</td>\n",
              "      <td>Pereira</td>\n",
              "      <td>5</td>\n",
              "      <td>Tarjeta de crédito</td>\n",
              "      <td>10</td>\n",
              "      <td>4.81333</td>\n",
              "      <td>-75.69611</td>\n",
              "    </tr>\n",
              "    <tr>\n",
              "      <th>3</th>\n",
              "      <td>Cama king</td>\n",
              "      <td>Muebles</td>\n",
              "      <td>906200.0</td>\n",
              "      <td>46400.0</td>\n",
              "      <td>04/05/2022</td>\n",
              "      <td>Maria Alfonso</td>\n",
              "      <td>Cali</td>\n",
              "      <td>5</td>\n",
              "      <td>Tarjeta de crédito</td>\n",
              "      <td>10</td>\n",
              "      <td>3.43722</td>\n",
              "      <td>-76.52250</td>\n",
              "    </tr>\n",
              "    <tr>\n",
              "      <th>4</th>\n",
              "      <td>Silla de oficina</td>\n",
              "      <td>Muebles</td>\n",
              "      <td>397800.0</td>\n",
              "      <td>19400.0</td>\n",
              "      <td>26/02/2022</td>\n",
              "      <td>Lucas Olivera</td>\n",
              "      <td>Bogotá</td>\n",
              "      <td>4</td>\n",
              "      <td>Tarjeta de crédito</td>\n",
              "      <td>3</td>\n",
              "      <td>4.60971</td>\n",
              "      <td>-74.08175</td>\n",
              "    </tr>\n",
              "  </tbody>\n",
              "</table>\n",
              "</div>\n",
              "    <div class=\"colab-df-buttons\">\n",
              "\n",
              "  <div class=\"colab-df-container\">\n",
              "    <button class=\"colab-df-convert\" onclick=\"convertToInteractive('df-7c1cc192-5583-454a-ae56-2272318b58dd')\"\n",
              "            title=\"Convert this dataframe to an interactive table.\"\n",
              "            style=\"display:none;\">\n",
              "\n",
              "  <svg xmlns=\"http://www.w3.org/2000/svg\" height=\"24px\" viewBox=\"0 -960 960 960\">\n",
              "    <path d=\"M120-120v-720h720v720H120Zm60-500h600v-160H180v160Zm220 220h160v-160H400v160Zm0 220h160v-160H400v160ZM180-400h160v-160H180v160Zm440 0h160v-160H620v160ZM180-180h160v-160H180v160Zm440 0h160v-160H620v160Z\"/>\n",
              "  </svg>\n",
              "    </button>\n",
              "\n",
              "  <style>\n",
              "    .colab-df-container {\n",
              "      display:flex;\n",
              "      gap: 12px;\n",
              "    }\n",
              "\n",
              "    .colab-df-convert {\n",
              "      background-color: #E8F0FE;\n",
              "      border: none;\n",
              "      border-radius: 50%;\n",
              "      cursor: pointer;\n",
              "      display: none;\n",
              "      fill: #1967D2;\n",
              "      height: 32px;\n",
              "      padding: 0 0 0 0;\n",
              "      width: 32px;\n",
              "    }\n",
              "\n",
              "    .colab-df-convert:hover {\n",
              "      background-color: #E2EBFA;\n",
              "      box-shadow: 0px 1px 2px rgba(60, 64, 67, 0.3), 0px 1px 3px 1px rgba(60, 64, 67, 0.15);\n",
              "      fill: #174EA6;\n",
              "    }\n",
              "\n",
              "    .colab-df-buttons div {\n",
              "      margin-bottom: 4px;\n",
              "    }\n",
              "\n",
              "    [theme=dark] .colab-df-convert {\n",
              "      background-color: #3B4455;\n",
              "      fill: #D2E3FC;\n",
              "    }\n",
              "\n",
              "    [theme=dark] .colab-df-convert:hover {\n",
              "      background-color: #434B5C;\n",
              "      box-shadow: 0px 1px 3px 1px rgba(0, 0, 0, 0.15);\n",
              "      filter: drop-shadow(0px 1px 2px rgba(0, 0, 0, 0.3));\n",
              "      fill: #FFFFFF;\n",
              "    }\n",
              "  </style>\n",
              "\n",
              "    <script>\n",
              "      const buttonEl =\n",
              "        document.querySelector('#df-7c1cc192-5583-454a-ae56-2272318b58dd button.colab-df-convert');\n",
              "      buttonEl.style.display =\n",
              "        google.colab.kernel.accessAllowed ? 'block' : 'none';\n",
              "\n",
              "      async function convertToInteractive(key) {\n",
              "        const element = document.querySelector('#df-7c1cc192-5583-454a-ae56-2272318b58dd');\n",
              "        const dataTable =\n",
              "          await google.colab.kernel.invokeFunction('convertToInteractive',\n",
              "                                                    [key], {});\n",
              "        if (!dataTable) return;\n",
              "\n",
              "        const docLinkHtml = 'Like what you see? Visit the ' +\n",
              "          '<a target=\"_blank\" href=https://colab.research.google.com/notebooks/data_table.ipynb>data table notebook</a>'\n",
              "          + ' to learn more about interactive tables.';\n",
              "        element.innerHTML = '';\n",
              "        dataTable['output_type'] = 'display_data';\n",
              "        await google.colab.output.renderOutput(dataTable, element);\n",
              "        const docLink = document.createElement('div');\n",
              "        docLink.innerHTML = docLinkHtml;\n",
              "        element.appendChild(docLink);\n",
              "      }\n",
              "    </script>\n",
              "  </div>\n",
              "\n",
              "\n",
              "<div id=\"df-a084552c-68ee-4f32-a0ba-d979f67af723\">\n",
              "  <button class=\"colab-df-quickchart\" onclick=\"quickchart('df-a084552c-68ee-4f32-a0ba-d979f67af723')\"\n",
              "            title=\"Suggest charts\"\n",
              "            style=\"display:none;\">\n",
              "\n",
              "<svg xmlns=\"http://www.w3.org/2000/svg\" height=\"24px\"viewBox=\"0 0 24 24\"\n",
              "     width=\"24px\">\n",
              "    <g>\n",
              "        <path d=\"M19 3H5c-1.1 0-2 .9-2 2v14c0 1.1.9 2 2 2h14c1.1 0 2-.9 2-2V5c0-1.1-.9-2-2-2zM9 17H7v-7h2v7zm4 0h-2V7h2v10zm4 0h-2v-4h2v4z\"/>\n",
              "    </g>\n",
              "</svg>\n",
              "  </button>\n",
              "\n",
              "<style>\n",
              "  .colab-df-quickchart {\n",
              "      --bg-color: #E8F0FE;\n",
              "      --fill-color: #1967D2;\n",
              "      --hover-bg-color: #E2EBFA;\n",
              "      --hover-fill-color: #174EA6;\n",
              "      --disabled-fill-color: #AAA;\n",
              "      --disabled-bg-color: #DDD;\n",
              "  }\n",
              "\n",
              "  [theme=dark] .colab-df-quickchart {\n",
              "      --bg-color: #3B4455;\n",
              "      --fill-color: #D2E3FC;\n",
              "      --hover-bg-color: #434B5C;\n",
              "      --hover-fill-color: #FFFFFF;\n",
              "      --disabled-bg-color: #3B4455;\n",
              "      --disabled-fill-color: #666;\n",
              "  }\n",
              "\n",
              "  .colab-df-quickchart {\n",
              "    background-color: var(--bg-color);\n",
              "    border: none;\n",
              "    border-radius: 50%;\n",
              "    cursor: pointer;\n",
              "    display: none;\n",
              "    fill: var(--fill-color);\n",
              "    height: 32px;\n",
              "    padding: 0;\n",
              "    width: 32px;\n",
              "  }\n",
              "\n",
              "  .colab-df-quickchart:hover {\n",
              "    background-color: var(--hover-bg-color);\n",
              "    box-shadow: 0 1px 2px rgba(60, 64, 67, 0.3), 0 1px 3px 1px rgba(60, 64, 67, 0.15);\n",
              "    fill: var(--button-hover-fill-color);\n",
              "  }\n",
              "\n",
              "  .colab-df-quickchart-complete:disabled,\n",
              "  .colab-df-quickchart-complete:disabled:hover {\n",
              "    background-color: var(--disabled-bg-color);\n",
              "    fill: var(--disabled-fill-color);\n",
              "    box-shadow: none;\n",
              "  }\n",
              "\n",
              "  .colab-df-spinner {\n",
              "    border: 2px solid var(--fill-color);\n",
              "    border-color: transparent;\n",
              "    border-bottom-color: var(--fill-color);\n",
              "    animation:\n",
              "      spin 1s steps(1) infinite;\n",
              "  }\n",
              "\n",
              "  @keyframes spin {\n",
              "    0% {\n",
              "      border-color: transparent;\n",
              "      border-bottom-color: var(--fill-color);\n",
              "      border-left-color: var(--fill-color);\n",
              "    }\n",
              "    20% {\n",
              "      border-color: transparent;\n",
              "      border-left-color: var(--fill-color);\n",
              "      border-top-color: var(--fill-color);\n",
              "    }\n",
              "    30% {\n",
              "      border-color: transparent;\n",
              "      border-left-color: var(--fill-color);\n",
              "      border-top-color: var(--fill-color);\n",
              "      border-right-color: var(--fill-color);\n",
              "    }\n",
              "    40% {\n",
              "      border-color: transparent;\n",
              "      border-right-color: var(--fill-color);\n",
              "      border-top-color: var(--fill-color);\n",
              "    }\n",
              "    60% {\n",
              "      border-color: transparent;\n",
              "      border-right-color: var(--fill-color);\n",
              "    }\n",
              "    80% {\n",
              "      border-color: transparent;\n",
              "      border-right-color: var(--fill-color);\n",
              "      border-bottom-color: var(--fill-color);\n",
              "    }\n",
              "    90% {\n",
              "      border-color: transparent;\n",
              "      border-bottom-color: var(--fill-color);\n",
              "    }\n",
              "  }\n",
              "</style>\n",
              "\n",
              "  <script>\n",
              "    async function quickchart(key) {\n",
              "      const quickchartButtonEl =\n",
              "        document.querySelector('#' + key + ' button');\n",
              "      quickchartButtonEl.disabled = true;  // To prevent multiple clicks.\n",
              "      quickchartButtonEl.classList.add('colab-df-spinner');\n",
              "      try {\n",
              "        const charts = await google.colab.kernel.invokeFunction(\n",
              "            'suggestCharts', [key], {});\n",
              "      } catch (error) {\n",
              "        console.error('Error during call to suggestCharts:', error);\n",
              "      }\n",
              "      quickchartButtonEl.classList.remove('colab-df-spinner');\n",
              "      quickchartButtonEl.classList.add('colab-df-quickchart-complete');\n",
              "    }\n",
              "    (() => {\n",
              "      let quickchartButtonEl =\n",
              "        document.querySelector('#df-a084552c-68ee-4f32-a0ba-d979f67af723 button');\n",
              "      quickchartButtonEl.style.display =\n",
              "        google.colab.kernel.accessAllowed ? 'block' : 'none';\n",
              "    })();\n",
              "  </script>\n",
              "</div>\n",
              "\n",
              "    </div>\n",
              "  </div>\n"
            ],
            "application/vnd.google.colaboratory.intrinsic+json": {
              "type": "dataframe",
              "variable_name": "tienda2",
              "summary": "{\n  \"name\": \"tienda2\",\n  \"rows\": 2359,\n  \"fields\": [\n    {\n      \"column\": \"Producto\",\n      \"properties\": {\n        \"dtype\": \"category\",\n        \"num_unique_values\": 51,\n        \"samples\": [\n          \"Carrito de control remoto\",\n          \"Bal\\u00f3n de voleibol\",\n          \"Smartwatch\"\n        ],\n        \"semantic_type\": \"\",\n        \"description\": \"\"\n      }\n    },\n    {\n      \"column\": \"Categor\\u00eda del Producto\",\n      \"properties\": {\n        \"dtype\": \"category\",\n        \"num_unique_values\": 8,\n        \"samples\": [\n          \"Instrumentos musicales\",\n          \"Juguetes\",\n          \"Muebles\"\n        ],\n        \"semantic_type\": \"\",\n        \"description\": \"\"\n      }\n    },\n    {\n      \"column\": \"Precio\",\n      \"properties\": {\n        \"dtype\": \"number\",\n        \"std\": 595559.5496238894,\n        \"min\": 7600.0,\n        \"max\": 2953400.0,\n        \"num_unique_values\": 1908,\n        \"samples\": [\n          58500.0,\n          39100.0,\n          2005300.0\n        ],\n        \"semantic_type\": \"\",\n        \"description\": \"\"\n      }\n    },\n    {\n      \"column\": \"Costo de env\\u00edo\",\n      \"properties\": {\n        \"dtype\": \"number\",\n        \"std\": 31741.37516624008,\n        \"min\": 0.0,\n        \"max\": 162500.0,\n        \"num_unique_values\": 736,\n        \"samples\": [\n          79700.0,\n          32300.0,\n          12600.0\n        ],\n        \"semantic_type\": \"\",\n        \"description\": \"\"\n      }\n    },\n    {\n      \"column\": \"Fecha de Compra\",\n      \"properties\": {\n        \"dtype\": \"category\",\n        \"num_unique_values\": 1025,\n        \"samples\": [\n          \"17/02/2021\",\n          \"16/03/2023\",\n          \"30/07/2020\"\n        ],\n        \"semantic_type\": \"\",\n        \"description\": \"\"\n      }\n    },\n    {\n      \"column\": \"Vendedor\",\n      \"properties\": {\n        \"dtype\": \"category\",\n        \"num_unique_values\": 14,\n        \"samples\": [\n          \"Felipe Santos\",\n          \"\\u00c1ngel Rodriguez\",\n          \"Izabela de Le\\u00f3n\"\n        ],\n        \"semantic_type\": \"\",\n        \"description\": \"\"\n      }\n    },\n    {\n      \"column\": \"Lugar de Compra\",\n      \"properties\": {\n        \"dtype\": \"category\",\n        \"num_unique_values\": 19,\n        \"samples\": [\n          \"Medell\\u00edn\",\n          \"Barranquilla\",\n          \"Manizales\"\n        ],\n        \"semantic_type\": \"\",\n        \"description\": \"\"\n      }\n    },\n    {\n      \"column\": \"Calificaci\\u00f3n\",\n      \"properties\": {\n        \"dtype\": \"number\",\n        \"std\": 1,\n        \"min\": 1,\n        \"max\": 5,\n        \"num_unique_values\": 5,\n        \"samples\": [\n          3,\n          2,\n          5\n        ],\n        \"semantic_type\": \"\",\n        \"description\": \"\"\n      }\n    },\n    {\n      \"column\": \"M\\u00e9todo de pago\",\n      \"properties\": {\n        \"dtype\": \"category\",\n        \"num_unique_values\": 4,\n        \"samples\": [\n          \"Tarjeta de cr\\u00e9dito\",\n          \"Tarjeta de d\\u00e9bito\",\n          \"Nequi\"\n        ],\n        \"semantic_type\": \"\",\n        \"description\": \"\"\n      }\n    },\n    {\n      \"column\": \"Cantidad de cuotas\",\n      \"properties\": {\n        \"dtype\": \"number\",\n        \"std\": 2,\n        \"min\": 1,\n        \"max\": 24,\n        \"num_unique_values\": 17,\n        \"samples\": [\n          1,\n          4,\n          2\n        ],\n        \"semantic_type\": \"\",\n        \"description\": \"\"\n      }\n    },\n    {\n      \"column\": \"lat\",\n      \"properties\": {\n        \"dtype\": \"number\",\n        \"std\": 2.3511176512146568,\n        \"min\": -4.21528,\n        \"max\": 11.54444,\n        \"num_unique_values\": 19,\n        \"samples\": [\n          6.25184,\n          10.96854,\n          5.06889\n        ],\n        \"semantic_type\": \"\",\n        \"description\": \"\"\n      }\n    },\n    {\n      \"column\": \"lon\",\n      \"properties\": {\n        \"dtype\": \"number\",\n        \"std\": 1.185996710833015,\n        \"min\": -77.28111,\n        \"max\": -67.9239,\n        \"num_unique_values\": 19,\n        \"samples\": [\n          -75.56359,\n          -74.78132,\n          -75.51738\n        ],\n        \"semantic_type\": \"\",\n        \"description\": \"\"\n      }\n    }\n  ]\n}"
            }
          },
          "metadata": {},
          "execution_count": 10
        }
      ],
      "source": [
        "import pandas as pd\n",
        "\n",
        "url = \"https://raw.githubusercontent.com/alura-es-cursos/challenge1-data-science-latam/refs/heads/main/base-de-datos-challenge1-latam/tienda_1%20.csv\"\n",
        "url2 = \"https://raw.githubusercontent.com/alura-es-cursos/challenge1-data-science-latam/refs/heads/main/base-de-datos-challenge1-latam/tienda_2.csv\"\n",
        "url3 = \"https://raw.githubusercontent.com/alura-es-cursos/challenge1-data-science-latam/refs/heads/main/base-de-datos-challenge1-latam/tienda_3.csv\"\n",
        "url4 = \"https://raw.githubusercontent.com/alura-es-cursos/challenge1-data-science-latam/refs/heads/main/base-de-datos-challenge1-latam/tienda_4.csv\"\n",
        "\n",
        "tienda = pd.read_csv(url)\n",
        "tienda2 = pd.read_csv(url2)\n",
        "tienda3 = pd.read_csv(url3)\n",
        "tienda4 = pd.read_csv(url4)\n",
        "\n",
        "tienda2.head()"
      ]
    },
    {
      "source": [
        "from google.colab import sheets\n",
        "sheet = sheets.InteractiveSheet(df=tienda2)"
      ],
      "cell_type": "code",
      "execution_count": 9,
      "outputs": [
        {
          "output_type": "stream",
          "name": "stdout",
          "text": [
            "https://docs.google.com/spreadsheets/d/1WjaJLmcZbTg78Xz_91lxP4HMvFO7rFO37YiTCUq1yvw/edit#gid=0\n"
          ]
        },
        {
          "output_type": "display_data",
          "data": {
            "text/plain": [
              "<IPython.lib.display.IFrame at 0x7d968cc18310>"
            ],
            "text/html": [
              "\n",
              "        <iframe\n",
              "            width=\"100%\"\n",
              "            height=\"600\"\n",
              "            src=\"https://docs.google.com/spreadsheets/d/1WjaJLmcZbTg78Xz_91lxP4HMvFO7rFO37YiTCUq1yvw/edit?rm=embedded#gid=0\"\n",
              "            frameborder=\"0\"\n",
              "            allowfullscreen\n",
              "            \n",
              "        ></iframe>\n",
              "        "
            ]
          },
          "metadata": {}
        }
      ],
      "metadata": {
        "cellView": "form",
        "colab": {
          "base_uri": "https://localhost:8080/",
          "height": 639
        },
        "collapsed": true,
        "id": "zcMp86nKuuek",
        "outputId": "de0c8c44-aa12-4f51-a183-69e315ccb6de"
      }
    },
    {
      "cell_type": "markdown",
      "source": [
        "#1. Análisis de facturación\n",
        "\n"
      ],
      "metadata": {
        "id": "X62IW3KFUIYm"
      }
    },
    {
      "cell_type": "code",
      "source": [
        "# prompt: muestrame la facturacion total de cada tienda\n",
        "\n",
        "import pandas as pd\n",
        "\n",
        "# ... (previous code)\n",
        "\n",
        "# Calculate total billing for each store\n",
        "total_billing_tienda = tienda['Precio'].sum()\n",
        "total_billing_tienda2 = tienda2['Precio'].sum()\n",
        "total_billing_tienda3 = tienda3['Precio'].sum()\n",
        "total_billing_tienda4 = tienda4['Precio'].sum()\n",
        "\n",
        "total_General=total_billing_tienda+total_billing_tienda2+total_billing_tienda3+total_billing_tienda4\n",
        "\n",
        "# Print the results\n",
        "print(f\"Facturación total de la tienda 1: {total_billing_tienda}\")\n",
        "print(f\"Facturación total de la tienda 2: {total_billing_tienda2}\")\n",
        "print(f\"Facturación total de la tienda 3: {total_billing_tienda3}\")\n",
        "print(f\"Facturación total de la tienda 4: {total_billing_tienda4}\")\n",
        "\n",
        "print(f\"Facturación total : {total_General}\")\n"
      ],
      "metadata": {
        "id": "xykobSftV64I",
        "colab": {
          "base_uri": "https://localhost:8080/"
        },
        "outputId": "c5020e4b-a65c-412c-8dd6-dd3f00ed08e2"
      },
      "execution_count": 62,
      "outputs": [
        {
          "output_type": "stream",
          "name": "stdout",
          "text": [
            "Facturación total de la tienda 1: 1150880400.0\n",
            "Facturación total de la tienda 2: 1116343500.0\n",
            "Facturación total de la tienda 3: 1098019600.0\n",
            "Facturación total de la tienda 4: 1038375700.0\n",
            "Facturación total : 4403619200.0\n"
          ]
        }
      ]
    },
    {
      "cell_type": "code",
      "source": [],
      "metadata": {
        "id": "KDyr8E71V3m-"
      },
      "execution_count": null,
      "outputs": []
    },
    {
      "cell_type": "markdown",
      "source": [
        "# 2. Ventas por categoría"
      ],
      "metadata": {
        "id": "2V_vcAPzWZmR"
      }
    },
    {
      "cell_type": "code",
      "source": [
        "# Lista de DataFrames y sus nombres\n",
        "tiendas = {\n",
        "    'tienda': tienda,\n",
        "    'tienda2': tienda2,\n",
        "    'tienda3': tienda3,\n",
        "    'tienda4': tienda4\n",
        "}\n",
        "\n",
        "# Mostrar categorías populares por tienda\n",
        "for nombre, df in tiendas.items():\n",
        "    categorias_populares = df['Categoría del Producto'].value_counts().reset_index()\n",
        "    categorias_populares.columns = ['Categoría', 'Cantidad']\n",
        "    categorias_populares = categorias_populares.sort_values(by='Cantidad', ascending=False)\n",
        "\n",
        "    print(f\"\\n--- {nombre.upper()} ---\")\n",
        "    print(categorias_populares)\n",
        "\n",
        "# Combinar todas las tiendas y mostrar categorías totales\n",
        "todas_tiendas = pd.concat([tienda, tienda2, tienda3, tienda4])\n",
        "categorias_totales = todas_tiendas['Categoría del Producto'].value_counts().reset_index()\n",
        "categorias_totales.columns = ['Categoría', 'Cantidad_total']\n",
        "categorias_totales = categorias_totales.sort_values(by='Cantidad_total', ascending=False)\n",
        "\n",
        "print(\"\\n--- CATEGORÍAS MÁS POPULARES EN TODAS LAS TIENDAS ---\")\n",
        "print(categorias_totales)\n"
      ],
      "metadata": {
        "colab": {
          "base_uri": "https://localhost:8080/"
        },
        "id": "T5dObrBtxHc9",
        "outputId": "e868a9d0-4b29-44fd-ac6d-960e43b1acd5"
      },
      "execution_count": 58,
      "outputs": [
        {
          "output_type": "stream",
          "name": "stdout",
          "text": [
            "\n",
            "--- TIENDA ---\n",
            "                 Categoría  Cantidad\n",
            "0                  Muebles       465\n",
            "1             Electrónicos       448\n",
            "2                 Juguetes       324\n",
            "3        Electrodomésticos       312\n",
            "4     Deportes y diversión       284\n",
            "5   Instrumentos musicales       182\n",
            "6                   Libros       173\n",
            "7  Artículos para el hogar       171\n",
            "\n",
            "--- TIENDA2 ---\n",
            "                 Categoría  Cantidad\n",
            "0                  Muebles       442\n",
            "1             Electrónicos       422\n",
            "2                 Juguetes       313\n",
            "3        Electrodomésticos       305\n",
            "4     Deportes y diversión       275\n",
            "5   Instrumentos musicales       224\n",
            "6                   Libros       197\n",
            "7  Artículos para el hogar       181\n",
            "\n",
            "--- TIENDA3 ---\n",
            "                 Categoría  Cantidad\n",
            "0                  Muebles       499\n",
            "1             Electrónicos       451\n",
            "2                 Juguetes       315\n",
            "3        Electrodomésticos       278\n",
            "4     Deportes y diversión       277\n",
            "5                   Libros       185\n",
            "6   Instrumentos musicales       177\n",
            "7  Artículos para el hogar       177\n",
            "\n",
            "--- TIENDA4 ---\n",
            "                 Categoría  Cantidad\n",
            "0                  Muebles       480\n",
            "1             Electrónicos       451\n",
            "2                 Juguetes       338\n",
            "3     Deportes y diversión       277\n",
            "4        Electrodomésticos       254\n",
            "5  Artículos para el hogar       201\n",
            "6                   Libros       187\n",
            "7   Instrumentos musicales       170\n",
            "\n",
            "--- CATEGORÍAS MÁS POPULARES EN TODAS LAS TIENDAS ---\n",
            "                 Categoría  Cantidad_total\n",
            "0                  Muebles            1886\n",
            "1             Electrónicos            1772\n",
            "2                 Juguetes            1290\n",
            "3        Electrodomésticos            1149\n",
            "4     Deportes y diversión            1113\n",
            "5   Instrumentos musicales             753\n",
            "6                   Libros             742\n",
            "7  Artículos para el hogar             730\n"
          ]
        }
      ]
    },
    {
      "cell_type": "code",
      "source": [],
      "metadata": {
        "id": "yZR6cOjXYSk1"
      },
      "execution_count": null,
      "outputs": []
    },
    {
      "cell_type": "markdown",
      "source": [
        "# 3. Calificación promedio de la tienda\n"
      ],
      "metadata": {
        "id": "Rq6tU_xSY3jk"
      }
    },
    {
      "cell_type": "code",
      "source": [
        "# prompt: de acuerdo al codigo anterior, sacar el promedio de Calificación por tienda, con 3 decimales y el promedio de calificacion total\n",
        "\n",
        "# Calculate the average rating for each store\n",
        "average_rating_tienda = tienda['Calificación'].mean()\n",
        "average_rating_tienda2 = tienda2['Calificación'].mean()\n",
        "average_rating_tienda3 = tienda3['Calificación'].mean()\n",
        "average_rating_tienda4 = tienda4['Calificación'].mean()\n",
        "\n",
        "# Print the average ratings with 3 decimal places\n",
        "print(f\"Calificación promedio de la tienda 1: {average_rating_tienda:.3f}\")\n",
        "print(f\"Calificación promedio de la tienda 2: {average_rating_tienda2:.3f}\")\n",
        "print(f\"Calificación promedio de la tienda 3: {average_rating_tienda3:.3f}\")\n",
        "print(f\"Calificación promedio de la tienda 4: {average_rating_tienda4:.3f}\")\n",
        "\n",
        "# Calculate the overall average rating\n",
        "overall_average_rating = (average_rating_tienda + average_rating_tienda2 + average_rating_tienda3 + average_rating_tienda4) / 4\n",
        "\n",
        "# Print the overall average rating with 3 decimal places\n",
        "print(f\"Calificación promedio total: {overall_average_rating:.3f}\")\n"
      ],
      "metadata": {
        "id": "bh3jjjJwY5MU",
        "colab": {
          "base_uri": "https://localhost:8080/"
        },
        "outputId": "8b54233a-0698-4f52-d977-8409ee0b3e78"
      },
      "execution_count": 67,
      "outputs": [
        {
          "output_type": "stream",
          "name": "stdout",
          "text": [
            "Calificación promedio de la tienda 1: 3.977\n",
            "Calificación promedio de la tienda 2: 4.037\n",
            "Calificación promedio de la tienda 3: 4.048\n",
            "Calificación promedio de la tienda 4: 3.996\n",
            "Calificación promedio total: 4.015\n"
          ]
        }
      ]
    },
    {
      "cell_type": "code",
      "source": [],
      "metadata": {
        "id": "I0KkjPoTY88F"
      },
      "execution_count": null,
      "outputs": []
    },
    {
      "cell_type": "markdown",
      "source": [
        "# 4. Productos más y menos vendidos"
      ],
      "metadata": {
        "id": "DmNp1KPBZCm-"
      }
    },
    {
      "cell_type": "code",
      "source": [
        "# prompt: calcular el producto mas vendido y menos vendido por tienda , y\n",
        "\n",
        "# ... (previous code)\n",
        "\n",
        "# Function to find the most and least sold products per store\n",
        "def find_top_bottom_products(df, store_name):\n",
        "    product_counts = df['Producto'].value_counts()\n",
        "    most_sold = product_counts.index[0]\n",
        "    least_sold = product_counts.index[-1]\n",
        "    return most_sold, least_sold\n",
        "\n",
        "# Find most and least sold products for each store\n",
        "for name, df in tiendas.items():\n",
        "    most_sold, least_sold = find_top_bottom_products(df, name)\n",
        "    print(f\"\\n--- {name.upper()} ---\")\n",
        "    print(f\"Producto más vendido: {most_sold}\")\n",
        "    print(f\"Producto menos vendido: {least_sold}\")\n"
      ],
      "metadata": {
        "id": "qoyjqijQZHfF",
        "colab": {
          "base_uri": "https://localhost:8080/"
        },
        "outputId": "67884077-8841-4ff5-8e42-83261802e34d"
      },
      "execution_count": 69,
      "outputs": [
        {
          "output_type": "stream",
          "name": "stdout",
          "text": [
            "\n",
            "--- TIENDA ---\n",
            "Producto más vendido: Microondas\n",
            "Producto menos vendido: Celular ABXY\n",
            "\n",
            "--- TIENDA2 ---\n",
            "Producto más vendido: Iniciando en programación\n",
            "Producto menos vendido: Juego de mesa\n",
            "\n",
            "--- TIENDA3 ---\n",
            "Producto más vendido: Kit de bancas\n",
            "Producto menos vendido: Bloques de construcción\n",
            "\n",
            "--- TIENDA4 ---\n",
            "Producto más vendido: Cama box\n",
            "Producto menos vendido: Guitarra eléctrica\n"
          ]
        }
      ]
    },
    {
      "cell_type": "code",
      "source": [
        "# prompt: calcular el producto mas vendido y menos vendido de todas las tiendas\n",
        "\n",
        "import pandas as pd\n",
        "# Combine all stores into a single DataFrame\n",
        "all_stores_df = pd.concat([tienda, tienda2, tienda3, tienda4])\n",
        "\n",
        "# Calculate the total sales of each product across all stores\n",
        "product_sales = all_stores_df['Producto'].value_counts()\n",
        "\n",
        "# Find the most and least sold products\n",
        "most_sold_product = product_sales.index[0]\n",
        "least_sold_product = product_sales.index[-1]\n",
        "\n",
        "# Print the results\n",
        "print(f\"\\n--- ALL STORES ---\")\n",
        "print(f\"Producto más vendido: {most_sold_product}\")\n",
        "print(f\"Producto menos vendido: {least_sold_product}\")\n"
      ],
      "metadata": {
        "id": "0Sw3sd4IZIGW",
        "colab": {
          "base_uri": "https://localhost:8080/"
        },
        "outputId": "4b1ba587-9653-46e5-97df-67c243309560"
      },
      "execution_count": 71,
      "outputs": [
        {
          "output_type": "stream",
          "name": "stdout",
          "text": [
            "\n",
            "--- ALL STORES ---\n",
            "Producto más vendido: Mesa de noche\n",
            "Producto menos vendido: Celular ABXY\n"
          ]
        }
      ]
    },
    {
      "cell_type": "markdown",
      "source": [
        "# 5. Envío promedio por tienda"
      ],
      "metadata": {
        "id": "Fl0cGi3bZKqU"
      }
    },
    {
      "cell_type": "code",
      "source": [
        "# prompt: calcular el costo promedio por tienda\n",
        "\n",
        "# Calculate the average shipping cost for each store\n",
        "average_shipping_tienda = tienda['Costo de envío'].mean()\n",
        "average_shipping_tienda2 = tienda2['Costo de envío'].mean()\n",
        "average_shipping_tienda3 = tienda3['Costo de envío'].mean()\n",
        "average_shipping_tienda4 = tienda4['Costo de envío'].mean()\n",
        "\n",
        "# Print the average shipping costs\n",
        "print(f\"Costo de envío promedio de la tienda 1: {average_shipping_tienda:.2f}\")\n",
        "print(f\"Costo de envío promedio de la tienda 2: {average_shipping_tienda2:.2f}\")\n",
        "print(f\"Costo de envío promedio de la tienda 3: {average_shipping_tienda3:.2f}\")\n",
        "print(f\"Costo de envío promedio de la tienda 4: {average_shipping_tienda4:.2f}\")\n",
        "\n",
        "# Calculate the overall average shipping cost\n",
        "overall_average_shipping = (average_shipping_tienda + average_shipping_tienda2 + average_shipping_tienda3 + average_shipping_tienda4) / 4\n",
        "\n",
        "# Print the overall average shipping cost\n",
        "print(f\"Costo de envío promedio total: {overall_average_shipping:.2f}\")\n"
      ],
      "metadata": {
        "id": "S2JeaCykZNy9",
        "colab": {
          "base_uri": "https://localhost:8080/"
        },
        "outputId": "fdf9b2c3-6864-4a2b-f7b5-a871bcb5e664"
      },
      "execution_count": 72,
      "outputs": [
        {
          "output_type": "stream",
          "name": "stdout",
          "text": [
            "Costo de envío promedio de la tienda 1: 26018.61\n",
            "Costo de envío promedio de la tienda 2: 25216.24\n",
            "Costo de envío promedio de la tienda 3: 24805.68\n",
            "Costo de envío promedio de la tienda 4: 23459.46\n",
            "Costo de envío promedio total: 24875.00\n"
          ]
        }
      ]
    },
    {
      "cell_type": "code",
      "source": [
        "# prompt: hacer un grafico de lineas de las 4 tiendas , con la suma del precio\n",
        "\n",
        "import matplotlib.pyplot as plt\n",
        "\n",
        "# Data for the plot\n",
        "stores = ['Tienda 1', 'Tienda 2', 'Tienda 3', 'Tienda 4']\n",
        "total_billings = [total_billing_tienda, total_billing_tienda2, total_billing_tienda3, total_billing_tienda4]\n",
        "\n",
        "# Create the line plot\n",
        "plt.plot(stores, total_billings, marker='o')\n",
        "\n",
        "# Customize the plot\n",
        "plt.xlabel('Tiendas')\n",
        "plt.ylabel('Suma del Precio')\n",
        "plt.title('Facturación Total por Tienda')\n",
        "plt.grid(True)\n",
        "\n",
        "# Show the plot\n",
        "plt.show()\n"
      ],
      "metadata": {
        "id": "0tSdCie9ZQlt",
        "colab": {
          "base_uri": "https://localhost:8080/",
          "height": 472
        },
        "outputId": "0440f25c-ba89-4366-f787-032d9dfbd66c"
      },
      "execution_count": 76,
      "outputs": [
        {
          "output_type": "display_data",
          "data": {
            "text/plain": [
              "<Figure size 640x480 with 1 Axes>"
            ],
            "image/png": "[encoded data removed]"
          },
          "metadata": {}
        }
      ]
    },
    {
      "cell_type": "code",
      "source": [
        "# prompt: hacer un grafico de lineas de las 4 tiendas , con la suma del costo envio\n",
        "\n",
        "import matplotlib.pyplot as plt\n",
        "# Data for the plot\n",
        "stores = ['Tienda 1', 'Tienda 2', 'Tienda 3', 'Tienda 4']\n",
        "shipping_costs = [tienda['Costo de envío'].sum(), tienda2['Costo de envío'].sum(), tienda3['Costo de envío'].sum(), tienda4['Costo de envío'].sum()]\n",
        "\n",
        "# Create the line plot\n",
        "plt.plot(stores, shipping_costs, marker='o')\n",
        "\n",
        "# Customize the plot\n",
        "plt.xlabel('Tiendas')\n",
        "plt.ylabel('Costo de envío')\n",
        "plt.title('Suma del Costo de Envío por Tienda')\n",
        "plt.grid(True)\n",
        "\n",
        "# Show the plot\n",
        "plt.show()\n"
      ],
      "metadata": {
        "colab": {
          "base_uri": "https://localhost:8080/",
          "height": 472
        },
        "id": "-mIn3u308gir",
        "outputId": "829eee24-b303-4c7d-ad61-aa0c66d9bebc"
      },
      "execution_count": 77,
      "outputs": [
        {
          "output_type": "display_data",
          "data": {
            "text/plain": [
              "<Figure size 640x480 with 1 Axes>"
            ],
            "image/png": "[encoded data removed]"
          },
          "metadata": {}
        }
      ]
    },
    {
      "cell_type": "code",
      "source": [
        "# prompt: calcular utilidad por tienda , precio menos costo envío y graficar\n",
        "\n",
        "import matplotlib.pyplot as plt\n",
        "# Calculate profit for each store\n",
        "tienda['Utilidad'] = tienda['Precio'] - tienda['Costo de envío']\n",
        "tienda2['Utilidad'] = tienda2['Precio'] - tienda2['Costo de envío']\n",
        "tienda3['Utilidad'] = tienda3['Precio'] - tienda3['Costo de envío']\n",
        "tienda4['Utilidad'] = tienda4['Precio'] - tienda4['Costo de envío']\n",
        "\n",
        "# Calculate total profit for each store\n",
        "total_profit_tienda = tienda['Utilidad'].sum()\n",
        "total_profit_tienda2 = tienda2['Utilidad'].sum()\n",
        "total_profit_tienda3 = tienda3['Utilidad'].sum()\n",
        "total_profit_tienda4 = tienda4['Utilidad'].sum()\n",
        "\n",
        "# Print the total profit for each store\n",
        "print(f\"Utilidad total de la tienda 1: {total_profit_tienda}\")\n",
        "print(f\"Utilidad total de la tienda 2: {total_profit_tienda2}\")\n",
        "print(f\"Utilidad total de la tienda 3: {total_profit_tienda3}\")\n",
        "print(f\"Utilidad total de la tienda 4: {total_profit_tienda4}\")\n",
        "\n",
        "# Data for the plot\n",
        "stores = ['Tienda 1', 'Tienda 2', 'Tienda 3', 'Tienda 4']\n",
        "total_profits = [total_profit_tienda, total_profit_tienda2, total_profit_tienda3, total_profit_tienda4]\n",
        "\n",
        "# Create the bar plot\n",
        "plt.bar(stores, total_profits, color=['skyblue', 'lightcoral', 'lightgreen', 'lightsalmon'])\n",
        "\n",
        "# Customize the plot\n",
        "plt.xlabel('Tiendas')\n",
        "plt.ylabel('Utilidad Total')\n",
        "plt.title('Utilidad Total por Tienda')\n",
        "plt.grid(axis='y', linestyle='--')\n",
        "\n",
        "# Add value labels on top of each bar\n",
        "for i, profit in enumerate(total_profits):\n",
        "    plt.text(i, profit, f'{profit:.2f}', ha='center', va='bottom')\n",
        "\n",
        "# Show the plot\n",
        "plt.show()\n"
      ],
      "metadata": {
        "colab": {
          "base_uri": "https://localhost:8080/",
          "height": 541
        },
        "id": "YEJ5k95e8hy6",
        "outputId": "2e30acf4-b47f-440c-bdcb-af6dfdef85da"
      },
      "execution_count": 79,
      "outputs": [
        {
          "output_type": "stream",
          "name": "stdout",
          "text": [
            "Utilidad total de la tienda 1: 1089502500.0\n",
            "Utilidad total de la tienda 2: 1056858400.0\n",
            "Utilidad total de la tienda 3: 1039503000.0\n",
            "Utilidad total de la tienda 4: 983058300.0\n"
          ]
        },
        {
          "output_type": "display_data",
          "data": {
            "text/plain": [
              "<Figure size 640x480 with 1 Axes>"
            ],
            "image/png": "[encoded data removed]"
          },
          "metadata": {}
        }
      ]
    },
    {
      "cell_type": "code",
      "source": [],
      "metadata": {
        "id": "ZkoxSDE58mai"
      },
      "execution_count": null,
      "outputs": []
    },
    {
      "cell_type": "code",
      "source": [],
      "metadata": {
        "id": "mhXzKQMq-lqh"
      },
      "execution_count": null,
      "outputs": []
    },
    {
      "cell_type": "code",
      "source": [],
      "metadata": {
        "id": "axODhaqaA5dT"
      },
      "execution_count": null,
      "outputs": []
    },
    {
      "cell_type": "markdown",
      "source": [
        "**Diagnostico**\n",
        "\n",
        "De acuerdo a los analisis de los datos, la tienda 4 es la que tiene menos facturación , y aunque sus costos de envío son bajos , es la que tiene menos utilidad por ultimo su calificacion es de un 3.996, la tercera mas baja. Por lo tanto la tienda 4 debería cerrar."
      ],
      "metadata": {
        "id": "_FZuYn8_7zhv"
      }
    }
  ]
}